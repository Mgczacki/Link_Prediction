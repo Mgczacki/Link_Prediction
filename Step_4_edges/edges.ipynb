{
 "cells": [
  {
   "cell_type": "code",
   "execution_count": 1,
   "metadata": {},
   "outputs": [
    {
     "name": "stdout",
     "output_type": "stream",
     "text": [
      "edges_90_00.csv Ready\n"
     ]
    }
   ],
   "source": [
    "import pandas as pd\n",
    "df_authors_pubs = pd.read_csv('1990_2000_filtered_authorships.csv')\n",
    "\n",
    "from collections import defaultdict\n",
    "dict_authors_pubs =defaultdict(list)\n",
    "for index, row in df_authors_pubs.iterrows():\n",
    "    dict_authors_pubs[row['id_article']].append(row['author'])\n",
    "\n",
    "list_edges = []\n",
    "list_edges.append(\"source,target\\n\")\n",
    "\n",
    "for id_article, list_authors in dict_authors_pubs.items():\n",
    "    for i in range(0,len(list_authors)):\n",
    "        for j in range(i+1,len(list_authors)):\n",
    "            list_edges.append(str(list_authors[i]).strip()+\",\"+str(list_authors[j]).strip()+\"\\n\")\n",
    "\n",
    "with open(\"1990_2000_edges.csv\", \"w\") as f:\n",
    "        for renglon in list_edges:\n",
    "                f.write(renglon)\n",
    "\n",
    "print(\"edges_90_00.csv Ready\")\n"
   ]
  },
  {
   "cell_type": "code",
   "execution_count": 2,
   "metadata": {},
   "outputs": [],
   "source": [
    "import pandas as pd"
   ]
  },
  {
   "cell_type": "code",
   "execution_count": 3,
   "metadata": {},
   "outputs": [
    {
     "data": {
      "text/html": [
       "<div>\n",
       "<style scoped>\n",
       "    .dataframe tbody tr th:only-of-type {\n",
       "        vertical-align: middle;\n",
       "    }\n",
       "\n",
       "    .dataframe tbody tr th {\n",
       "        vertical-align: top;\n",
       "    }\n",
       "\n",
       "    .dataframe thead th {\n",
       "        text-align: right;\n",
       "    }\n",
       "</style>\n",
       "<table border=\"1\" class=\"dataframe\">\n",
       "  <thead>\n",
       "    <tr style=\"text-align: right;\">\n",
       "      <th></th>\n",
       "      <th>source</th>\n",
       "      <th>target</th>\n",
       "    </tr>\n",
       "  </thead>\n",
       "  <tbody>\n",
       "    <tr>\n",
       "      <th>0</th>\n",
       "      <td>Dario Bini</td>\n",
       "      <td>Victor Y. Pan</td>\n",
       "    </tr>\n",
       "    <tr>\n",
       "      <th>1</th>\n",
       "      <td>Andreas Stein</td>\n",
       "      <td>Horst Günter Zimmer</td>\n",
       "    </tr>\n",
       "    <tr>\n",
       "      <th>2</th>\n",
       "      <td>George E. Collins</td>\n",
       "      <td>Werner Krandick</td>\n",
       "    </tr>\n",
       "    <tr>\n",
       "      <th>3</th>\n",
       "      <td>Saugata Basu</td>\n",
       "      <td>Richard Pollack</td>\n",
       "    </tr>\n",
       "    <tr>\n",
       "      <th>4</th>\n",
       "      <td>Saugata Basu</td>\n",
       "      <td>Marie-Françoise Roy</td>\n",
       "    </tr>\n",
       "    <tr>\n",
       "      <th>...</th>\n",
       "      <td>...</td>\n",
       "      <td>...</td>\n",
       "    </tr>\n",
       "    <tr>\n",
       "      <th>656243</th>\n",
       "      <td>Valeriu Beiu</td>\n",
       "      <td>Joos Vandewalle</td>\n",
       "    </tr>\n",
       "    <tr>\n",
       "      <th>656244</th>\n",
       "      <td>Valeriu Beiu</td>\n",
       "      <td>Rudy Lauwereins</td>\n",
       "    </tr>\n",
       "    <tr>\n",
       "      <th>656245</th>\n",
       "      <td>J. A. Peperstraete</td>\n",
       "      <td>Joos Vandewalle</td>\n",
       "    </tr>\n",
       "    <tr>\n",
       "      <th>656246</th>\n",
       "      <td>J. A. Peperstraete</td>\n",
       "      <td>Rudy Lauwereins</td>\n",
       "    </tr>\n",
       "    <tr>\n",
       "      <th>656247</th>\n",
       "      <td>Joos Vandewalle</td>\n",
       "      <td>Rudy Lauwereins</td>\n",
       "    </tr>\n",
       "  </tbody>\n",
       "</table>\n",
       "<p>656248 rows × 2 columns</p>\n",
       "</div>"
      ],
      "text/plain": [
       "                    source               target\n",
       "0               Dario Bini        Victor Y. Pan\n",
       "1            Andreas Stein  Horst Günter Zimmer\n",
       "2        George E. Collins      Werner Krandick\n",
       "3             Saugata Basu      Richard Pollack\n",
       "4             Saugata Basu  Marie-Françoise Roy\n",
       "...                    ...                  ...\n",
       "656243        Valeriu Beiu      Joos Vandewalle\n",
       "656244        Valeriu Beiu      Rudy Lauwereins\n",
       "656245  J. A. Peperstraete      Joos Vandewalle\n",
       "656246  J. A. Peperstraete      Rudy Lauwereins\n",
       "656247     Joos Vandewalle      Rudy Lauwereins\n",
       "\n",
       "[656248 rows x 2 columns]"
      ]
     },
     "execution_count": 3,
     "metadata": {},
     "output_type": "execute_result"
    }
   ],
   "source": [
    "pd.read_csv('1990_2000_edges.csv')"
   ]
  },
  {
   "cell_type": "code",
   "execution_count": null,
   "metadata": {},
   "outputs": [],
   "source": []
  }
 ],
 "metadata": {
  "kernelspec": {
   "display_name": "Python 3",
   "language": "python",
   "name": "python3"
  },
  "language_info": {
   "codemirror_mode": {
    "name": "ipython",
    "version": 3
   },
   "file_extension": ".py",
   "mimetype": "text/x-python",
   "name": "python",
   "nbconvert_exporter": "python",
   "pygments_lexer": "ipython3",
   "version": "3.6.9"
  }
 },
 "nbformat": 4,
 "nbformat_minor": 4
}
