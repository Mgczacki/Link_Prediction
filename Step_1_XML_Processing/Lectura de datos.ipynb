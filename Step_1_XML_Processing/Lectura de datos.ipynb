{
 "cells": [
  {
   "cell_type": "code",
   "execution_count": 1,
   "metadata": {},
   "outputs": [],
   "source": [
    "import xml.etree.ElementTree as ET\n",
    "import csv"
   ]
  },
  {
   "cell_type": "code",
   "execution_count": 2,
   "metadata": {},
   "outputs": [],
   "source": [
    "mytree = ET.parse('1990_2000.xml')\n",
    "myroot = mytree.getroot()"
   ]
  },
  {
   "cell_type": "code",
   "execution_count": 3,
   "metadata": {},
   "outputs": [],
   "source": [
    "#Creamos archivo \n",
    "data = open('1990_2000_authorships.csv',\"w\")\n",
    "#Escibimos los encabezados\n",
    "csvwriter = csv.writer(data)\n",
    "head = ['id_article','author','year']\n",
    "csvwriter.writerow(head)\n",
    "#Creamos la lista de inproceedings\n",
    "for x in myroot.findall('inproceedings'):\n",
    "    id_article = x.attrib['key']\n",
    "    for y in x:\n",
    "        if y.tag == 'year':\n",
    "            year = y.text\n",
    "    for y in x:\n",
    "        if y.tag == 'author':\n",
    "            author = y.text    \n",
    "            datos = [id_article,author,year]\n",
    "            csvwriter.writerow(datos)\n",
    "#Creamos la lista de article\n",
    "for x in myroot.findall('article'):\n",
    "    id_article = x.attrib['key']\n",
    "    for y in x:\n",
    "        if y.tag == 'year':\n",
    "            year = y.text\n",
    "    for y in x:\n",
    "        if y.tag == 'author':\n",
    "            author = y.text    \n",
    "            datos = [id_article,author,year]\n",
    "            csvwriter.writerow(datos)\n",
    "data.close()"
   ]
  },
  {
   "cell_type": "code",
   "execution_count": 4,
   "metadata": {},
   "outputs": [],
   "source": [
    "mytree = ET.parse('2001_2002.xml')\n",
    "myroot = mytree.getroot()"
   ]
  },
  {
   "cell_type": "code",
   "execution_count": 5,
   "metadata": {},
   "outputs": [],
   "source": [
    "#Creamos archivo \n",
    "data = open('2001_2002_authorships.csv',\"w\")\n",
    "#Escibimos los encabezados\n",
    "csvwriter = csv.writer(data)\n",
    "head = ['id_article','author','year']\n",
    "csvwriter.writerow(head)\n",
    "#Creamos la lista de inproceedings\n",
    "for x in myroot.findall('inproceedings'):\n",
    "    id_article = x.attrib['key']\n",
    "    for y in x:\n",
    "        if y.tag == 'year':\n",
    "            year = y.text\n",
    "    for y in x:\n",
    "        if y.tag == 'author':\n",
    "            author = y.text    \n",
    "            datos = [id_article,author,year]\n",
    "            csvwriter.writerow(datos)\n",
    "#Creamos la lista de article\n",
    "for x in myroot.findall('article'):\n",
    "    id_article = x.attrib['key']\n",
    "    for y in x:\n",
    "        if y.tag == 'year':\n",
    "            year = y.text\n",
    "    for y in x:\n",
    "        if y.tag == 'author':\n",
    "            author = y.text    \n",
    "            datos = [id_article,author,year]\n",
    "            csvwriter.writerow(datos)\n",
    "data.close()"
   ]
  },
  {
   "cell_type": "code",
   "execution_count": 6,
   "metadata": {},
   "outputs": [],
   "source": [
    "mytree = ET.parse('2003_2004.xml')\n",
    "myroot = mytree.getroot()"
   ]
  },
  {
   "cell_type": "code",
   "execution_count": 7,
   "metadata": {},
   "outputs": [],
   "source": [
    "#Creamos archivo \n",
    "data = open('2003_2004_authorships.csv',\"w\")\n",
    "#Escibimos los encabezados\n",
    "csvwriter = csv.writer(data)\n",
    "head = ['id_article','author','year']\n",
    "csvwriter.writerow(head)\n",
    "#Creamos la lista de inproceedings\n",
    "for x in myroot.findall('inproceedings'):\n",
    "    id_article = x.attrib['key']\n",
    "    for y in x:\n",
    "        if y.tag == 'year':\n",
    "            year = y.text\n",
    "    for y in x:\n",
    "        if y.tag == 'author':\n",
    "            author = y.text    \n",
    "            datos = [id_article,author,year]\n",
    "            csvwriter.writerow(datos)\n",
    "#Creamos la lista de article\n",
    "for x in myroot.findall('article'):\n",
    "    id_article = x.attrib['key']\n",
    "    for y in x:\n",
    "        if y.tag == 'year':\n",
    "            year = y.text\n",
    "    for y in x:\n",
    "        if y.tag == 'author':\n",
    "            author = y.text    \n",
    "            datos = [id_article,author,year]\n",
    "            csvwriter.writerow(datos)\n",
    "data.close()"
   ]
  },
  {
   "cell_type": "code",
   "execution_count": null,
   "metadata": {},
   "outputs": [],
   "source": []
  }
 ],
 "metadata": {
  "kernelspec": {
   "display_name": "Python 3",
   "language": "python",
   "name": "python3"
  },
  "language_info": {
   "codemirror_mode": {
    "name": "ipython",
    "version": 3
   },
   "file_extension": ".py",
   "mimetype": "text/x-python",
   "name": "python",
   "nbconvert_exporter": "python",
   "pygments_lexer": "ipython3",
   "version": "3.6.9"
  }
 },
 "nbformat": 4,
 "nbformat_minor": 2
}
