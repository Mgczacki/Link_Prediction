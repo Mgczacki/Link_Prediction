{
 "cells": [
  {
   "cell_type": "code",
   "execution_count": 1,
   "metadata": {},
   "outputs": [],
   "source": [
    "from html.parser import HTMLParser"
   ]
  },
  {
   "cell_type": "code",
   "execution_count": 2,
   "metadata": {},
   "outputs": [],
   "source": [
    "parse = HTMLParser()"
   ]
  },
  {
   "cell_type": "code",
   "execution_count": 3,
   "metadata": {},
   "outputs": [],
   "source": [
    "f = open('dblp_clean_utf8.xml','r')"
   ]
  },
  {
   "cell_type": "code",
   "execution_count": 4,
   "metadata": {},
   "outputs": [
    {
     "name": "stdout",
     "output_type": "stream",
     "text": [
      "<?xml version=\"1.0\"?><!DOCTYPE dblp SYSTEM \"dblp-2017-08-29.dtd\"><dblp>\n",
      "\n"
     ]
    }
   ],
   "source": [
    "i = 0\n",
    "for line in f:\n",
    "    if i > 0:\n",
    "        break;\n",
    "    i += 1\n",
    "    print(line)"
   ]
  },
  {
   "cell_type": "code",
   "execution_count": 5,
   "metadata": {},
   "outputs": [],
   "source": [
    "doc1 = open(\"1990_2000.xml\",\"w\")\n",
    "doc2 = open(\"2001_2002.xml\",\"w\")\n",
    "doc3 = open(\"2003_2004.xml\",\"w\")"
   ]
  },
  {
   "cell_type": "code",
   "execution_count": 6,
   "metadata": {},
   "outputs": [
    {
     "data": {
      "text/plain": [
       "72"
      ]
     },
     "execution_count": 6,
     "metadata": {},
     "output_type": "execute_result"
    }
   ],
   "source": [
    "doc1.write('<?xml version=\"1.0\"?><!DOCTYPE dblp SYSTEM \"dblp-2017-08-29.dtd\"><dblp>\\n')\n",
    "doc2.write('<?xml version=\"1.0\"?><!DOCTYPE dblp SYSTEM \"dblp-2017-08-29.dtd\"><dblp>\\n')\n",
    "doc3.write('<?xml version=\"1.0\"?><!DOCTYPE dblp SYSTEM \"dblp-2017-08-29.dtd\"><dblp>\\n')"
   ]
  },
  {
   "cell_type": "code",
   "execution_count": 7,
   "metadata": {},
   "outputs": [],
   "source": [
    "def escribir_reg(registro,doc):\n",
    "    if doc == 1:\n",
    "        for i,reg in enumerate(registro):\n",
    "            if i == 0 or i+1 == len(registro):\n",
    "                doc1.write(reg)\n",
    "                doc1.write(\"\\n\")\n",
    "            else:\n",
    "                doc1.write(\"\\t\")\n",
    "                doc1.write(reg)\n",
    "                doc1.write(\"\\n\")\n",
    "    elif doc == 2:\n",
    "        for i,reg in enumerate(registro):\n",
    "            if i == 0 or i+1 == len(registro):\n",
    "                doc2.write(reg)\n",
    "                doc2.write(\"\\n\")\n",
    "            else:\n",
    "                doc2.write(\"\\t\")\n",
    "                doc2.write(reg)\n",
    "                doc2.write(\"\\n\")\n",
    "    else:\n",
    "        for i,reg in enumerate(registro):\n",
    "            if i == 0 or i+1 == len(registro):\n",
    "                doc3.write(reg)\n",
    "                doc3.write(\"\\n\")\n",
    "            else:\n",
    "                doc3.write(\"\\t\")\n",
    "                doc3.write(reg)\n",
    "                doc3.write(\"\\n\")"
   ]
  },
  {
   "cell_type": "code",
   "execution_count": 8,
   "metadata": {
    "scrolled": true
   },
   "outputs": [],
   "source": [
    "new_reg = 0\n",
    "datos = []\n",
    "doc = 0\n",
    "for line_e in f:\n",
    "    line = str(line_e)\n",
    "    if line.count('><inproceedings') > 0 or line.count('><article') or line.count('</inproceedings><') or line.count('</article><'):\n",
    "        lim = 2\n",
    "        aux = line.split('>')\n",
    "    else:\n",
    "        lim = 1\n",
    "    for n_reg in range(lim):\n",
    "        if lim > 1:\n",
    "            line = aux[n_reg] + \">\\n\"\n",
    "        if new_reg == 0:\n",
    "            if line.count('<inproceedings') > 0 or line.count('<article') > 0:\n",
    "                #print('Abrir registro')\n",
    "                datos.append(str(line))\n",
    "                new_reg = 1\n",
    "            else:\n",
    "                continue;\n",
    "        else:\n",
    "            if line.count('</inproceedings>') > 0 or line.count('</article>')> 0:\n",
    "                datos.append(str(line))\n",
    "                if doc != 0:\n",
    "                    #print(\"imprimir\")\n",
    "                    escribir_reg(datos,doc)\n",
    "                new_reg = 0\n",
    "                datos = []\n",
    "            else:\n",
    "                if line.count('</year>') > 0:\n",
    "                    s = str(line)\n",
    "                    inf = 0\n",
    "                    sup = 1\n",
    "                    for i in range(len(s)):\n",
    "                        if s[i:i+6] == '<year>':\n",
    "                            inf = i+6\n",
    "                    for i in range(len(s)):\n",
    "                        if s[i-6:i+1] == '</year>':\n",
    "                            sup = i-6\n",
    "                    year = int(s[inf:sup])\n",
    "                    if year >= 1990 and year <= 2000:\n",
    "                        #print(\"1990_2000\")\n",
    "                        doc = 1\n",
    "                    elif year >= 2001 and year <= 2002:\n",
    "                        #print(\"2001_2002\")\n",
    "                        doc = 2\n",
    "                    elif year >= 2003 and year <= 2004:\n",
    "                        #print(\"2003_2004\")\n",
    "                        doc = 3\n",
    "                    else:\n",
    "                        doc = 0\n",
    "                datos.append(str(line))"
   ]
  },
  {
   "cell_type": "code",
   "execution_count": 9,
   "metadata": {},
   "outputs": [
    {
     "data": {
      "text/plain": [
       "8"
      ]
     },
     "execution_count": 9,
     "metadata": {},
     "output_type": "execute_result"
    }
   ],
   "source": [
    "doc1.write('</dblp>\\n')\n",
    "doc2.write('</dblp>\\n')\n",
    "doc3.write('</dblp>\\n')"
   ]
  },
  {
   "cell_type": "code",
   "execution_count": 10,
   "metadata": {},
   "outputs": [],
   "source": [
    "doc1.close()\n",
    "doc1.close()\n",
    "doc1.close()"
   ]
  },
  {
   "cell_type": "code",
   "execution_count": null,
   "metadata": {},
   "outputs": [],
   "source": []
  }
 ],
 "metadata": {
  "kernelspec": {
   "display_name": "Python 3",
   "language": "python",
   "name": "python3"
  },
  "language_info": {
   "codemirror_mode": {
    "name": "ipython",
    "version": 3
   },
   "file_extension": ".py",
   "mimetype": "text/x-python",
   "name": "python",
   "nbconvert_exporter": "python",
   "pygments_lexer": "ipython3",
   "version": "3.6.9"
  }
 },
 "nbformat": 4,
 "nbformat_minor": 4
}
